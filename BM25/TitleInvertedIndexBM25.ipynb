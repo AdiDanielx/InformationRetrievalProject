{
  "cells": [
    {
      "cell_type": "markdown",
      "metadata": {
        "id": "2MfcIUDKOTgL"
      },
      "source": [
        "# Title inverted index with BM25"
      ]
    },
    {
      "cell_type": "code",
      "execution_count": null,
      "metadata": {
        "id": "uJ5j0BarORAZ"
      },
      "outputs": [],
      "source": [
        "# if the following command generates an error, you probably didn't enable\n",
        "# the cluster security option \"Allow API access to all Google Cloud services\"\n",
        "# under Manage Security → Project Access when setting up the cluster\n",
        "!gcloud dataproc clusters list --region us-central1"
      ]
    },
    {
      "cell_type": "markdown",
      "metadata": {
        "id": "LZZfhzUfOypE"
      },
      "source": [
        "Imports & Setup"
      ]
    },
    {
      "cell_type": "code",
      "execution_count": null,
      "metadata": {
        "id": "kZoZsaTtO2ZN"
      },
      "outputs": [],
      "source": [
        "!pip install -q google-cloud-storage==1.43.0\n",
        "!pip install -q graphframes\n",
        "\n",
        "import pyspark\n",
        "import sys\n",
        "from collections import Counter, OrderedDict, defaultdict\n",
        "import itertools\n",
        "from itertools import islice, count, groupby\n",
        "import pandas as pd\n",
        "import os\n",
        "import re\n",
        "from operator import itemgetter\n",
        "import nltk\n",
        "from nltk.stem.porter import *\n",
        "from nltk.corpus import stopwords\n",
        "from time import time\n",
        "from pathlib import Path\n",
        "import pickle\n",
        "import pandas as pd\n",
        "from google.cloud import storage\n",
        "import math\n",
        "import builtins\n",
        "from contextlib import closing\n",
        "\n",
        "import hashlib\n",
        "def _hash(s):\n",
        "    return hashlib.blake2b(bytes(s, encoding='utf8'), digest_size=5).hexdigest()\n",
        "\n",
        "nltk.download('stopwords')\n",
        "\n",
        "# if nothing prints here you forgot to include the initialization script when starting the cluster\n",
        "!ls -l /usr/lib/spark/jars/graph*\n"
      ]
    },
    {
      "cell_type": "code",
      "execution_count": null,
      "metadata": {
        "id": "MBo8y5v5PDaG"
      },
      "outputs": [],
      "source": [
        "from pyspark.sql import *\n",
        "from pyspark.sql.functions import *\n",
        "from pyspark import SparkContext, SparkConf, SparkFiles\n",
        "from pyspark.sql import SQLContext\n",
        "from graphframes import *"
      ]
    },
    {
      "cell_type": "code",
      "execution_count": null,
      "metadata": {
        "id": "zQFJdFhAPFZD"
      },
      "outputs": [],
      "source": [
        "spark"
      ]
    },
    {
      "cell_type": "code",
      "execution_count": null,
      "metadata": {
        "id": "yTfI1A_OPWlw"
      },
      "outputs": [],
      "source": [
        "# Put your bucket name below and make sure you can access it without an error\n",
        "bucket_name = 'ass3316128529'\n",
        "full_path = f\"gs://{bucket_name}/\"\n",
        "paths=[]\n",
        "\n",
        "client = storage.Client()\n",
        "blobs = client.list_blobs(bucket_name)\n",
        "# for b in blobs:\n",
        "#     if b.name != 'graphframes.sh':\n",
        "#         paths.append(full_path+b.name)\n",
        "for b in blobs:\n",
        "    if b.name != 'graphframes.sh' and not b.name.startswith(\"postings_gcp\"):\n",
        "        paths.append(full_path+b.name)"
      ]
    },
    {
      "cell_type": "markdown",
      "metadata": {
        "id": "GIA6uW21Ph36"
      },
      "source": [
        "#Building an inverted index\n",
        "\n",
        "Here, we read the entire corpus to an rdd, directly from Google Storage Bucket and use your code from Colab to construct an inverted index."
      ]
    },
    {
      "cell_type": "code",
      "execution_count": null,
      "metadata": {
        "id": "ZBXgQLfTPY1z"
      },
      "outputs": [],
      "source": [
        "parquetFile = spark.read.parquet(*paths)\n",
        "body_data = parquetFile.select(\"text\", \"id\").rdd\n",
        "title_data = parquetFile.select(\"title\", \"id\").rdd\n",
        "# Count number of wiki pages\n",
        "parquetFile.count()"
      ]
    },
    {
      "cell_type": "code",
      "execution_count": null,
      "metadata": {
        "id": "7ivc5q4VP3uD"
      },
      "outputs": [],
      "source": [
        "# if nothing prints here you forgot to upload the file inverted_index_gcp.py to the home dir\n",
        "%cd -q /home/dataproc\n",
        "!ls inverted_index_gcp.py"
      ]
    },
    {
      "cell_type": "code",
      "execution_count": null,
      "metadata": {
        "id": "oOocAHTIP6Km"
      },
      "outputs": [],
      "source": [
        "# adding our python module to the cluster\n",
        "sc.addFile(\"/home/dataproc/inverted_index_gcp.py\")\n",
        "sys.path.insert(0,SparkFiles.getRootDirectory())\n",
        "from inverted_index_gcp import InvertedIndex"
      ]
    },
    {
      "cell_type": "markdown",
      "metadata": {
        "id": "9YoCf41MQOn6"
      },
      "source": [
        "calculates the term-frequency (tf) for each word in a single document. map function. The functions gets the text and the wiki id, calculates the tf and returns list of tuples in the form of (token, (wiki_id, tf))."
      ]
    },
    {
      "cell_type": "code",
      "execution_count": null,
      "metadata": {
        "id": "UTmVNr_kQdmn"
      },
      "outputs": [],
      "source": [
        "english_stopwords = frozenset(stopwords.words('english'))\n",
        "corpus_stopwords = [\"category\", \"references\", \"also\", \"external\", \"links\",\n",
        "                    \"may\", \"first\", \"see\", \"history\", \"people\", \"one\", \"two\",\n",
        "                    \"part\", \"thumb\", \"including\", \"second\", \"following\",\n",
        "                    \"many\", \"however\", \"would\", \"became\"]\n",
        "\n",
        "all_stopwords = english_stopwords.union(corpus_stopwords)\n",
        "RE_WORD = re.compile(r\"\"\"[\\#\\@\\w](['\\-]?\\w){2,24}\"\"\", re.UNICODE)\n",
        "\n",
        "NUM_BUCKETS = 124\n",
        "def token2bucket_id(token):\n",
        "  return int(_hash(token),16) % NUM_BUCKETS\n",
        "\n",
        "def word_count(text, id):\n",
        "  ''' Count the frequency of each word in `text` (tf) that is not included in\n",
        "  `all_stopwords` and return entries that will go into our posting lists.\n",
        "  Parameters:'''\n",
        "  tokens = [token.group() for token in RE_WORD.finditer(text.lower())]\n",
        "  tokens = [token for token in tokens if token not in all_stopwords]\n",
        "  word_counter = Counter(tokens)\n",
        "  res_list = [(token, (id, tf)) for token, tf in word_counter.items()]\n",
        "  return res_list\n",
        "\n",
        "  def reduce_word_counts(unsorted_pl):\n",
        "  ''' Returns a sorted posting list by wiki_id.'''\n",
        "  return sorted(unsorted_pl)"
      ]
    },
    {
      "cell_type": "markdown",
      "metadata": {
        "id": "gQdFH5xTQ9dk"
      },
      "source": [
        "operates on the pairs returned by word_count. The functions gets a list of values (unsorted posting list) and sorts it.\n",
        "partitions the posting list, writes out each bucket, and returns information about the location on disk of each posting list."
      ]
    },
    {
      "cell_type": "code",
      "execution_count": null,
      "metadata": {
        "id": "U1KqEwh4RG8k"
      },
      "outputs": [],
      "source": [
        "def calculate_df(postings):\n",
        "  ''' Takes a posting list RDD and calculate the df for each token.'''\n",
        "  return postings.map(lambda x: (x[0], len(x[1]))).reduceByKey(lambda a, b: a + b)\n",
        "\n",
        "\n",
        "NUM_BUCKETS = 124\n",
        "def token2bucket_id(token):\n",
        "  return int(_hash(token),16) % NUM_BUCKETS\n",
        "\n",
        "def partition_postings_and_write(postings):\n",
        "  ''' A function that partitions the posting lists into buckets, writes out\n",
        "  all posting lists in a bucket to disk, and returns the posting locations for\n",
        "  each bucket. Partitioning should be done through the use of `token2bucket`\n",
        "  above. Writing to disk should use the function  `write_a_posting_list`, a\n",
        "  static method implemented in inverted_index_colab.py under the InvertedIndex\n",
        "  class. '''\n",
        "  bucket_sorted = postings.groupBy(lambda x: token2bucket_id(x[0]))\n",
        "  posting_locations = bucket_sorted.map(lambda x: (InvertedIndex.write_a_posting_list(x ,\".\", bucket_name)))\n",
        "  return posting_locations"
      ]
    },
    {
      "cell_type": "markdown",
      "metadata": {
        "id": "GHzQ5dFWSW8a"
      },
      "source": [
        "# inverted Index title"
      ]
    },
    {
      "cell_type": "code",
      "execution_count": null,
      "metadata": {
        "id": "KtTRXi2bSYHP"
      },
      "outputs": [],
      "source": [
        "def invertedIndexBM25(titles, index_name, isBody):\n",
        "  # Create inverted index instance\n",
        "  inverted = InvertedIndex()\n",
        "  word_counts = titles.flatMap(lambda x: word_count(x[0], x[1]))\n",
        "  postings = word_counts.groupByKey().mapValues(reduce_word_counts)\n",
        "  if isBody:\n",
        "        postings = postings.filter(lambda x: len(x[1])>50)\n",
        " #calculate df\n",
        "  w2df = calculate_df(postings)\n",
        "  w2df_dict = w2df.collectAsMap()\n",
        "\n",
        "  # calculate tf\n",
        "  tf = postings_filtered.flatMap(lambda x: [(post[0], (x[0],post[1])) for post in x[1]] )\n",
        "  tf = tf.groupByKey().mapValues(list)\n",
        "  documentes_length = tf.map(lambda x: (x[0],builtins.sum([tp[1] for tp in x[1]]))).collectAsMap()\n",
        "  # calculate the avarege len of docs\n",
        "  avargeLength = builtins.sum(documentes_length.values())/len(documentes_length)\n",
        "  # BM25 calculations\n",
        "  bm25 = documentes_length.map(lambda x:(x[0],bm25Score(x[1], avargeLength,1.5,0.75)))\n",
        "\n",
        "  # partition posting lists and write out\n",
        "  _ = partition_postings_and_write(postings).collect()\n",
        "  # collect all posting lists locations into one super-set\n",
        "  super_posting_locs = defaultdict(list)\n",
        "  for blob in client.list_blobs(bucket_name, prefix='postings_gcp'):\n",
        "    if not blob.name.endswith(\"pickle\"):\n",
        "      continue\n",
        "  with blob.open(\"rb\") as f:\n",
        "    posting_locs = pickle.load(f)\n",
        "    for k, v in posting_locs.items():\n",
        "      super_posting_locs[k].extend(v)\n",
        "\n",
        "  # Adding the posting locations dictionary to the inverted index\n",
        "  inverted.posting_locs = super_posting_locs\n",
        "\n",
        "  # Add the token - df dictionary to the inverted index\n",
        "  inverted.df = w2df_dict\n",
        "  inverted.N = titles.count()\n",
        "  inverted.similarity = bm25.collectAsMap()\n",
        "  # write the global stats out\n",
        "  inverted.write_index('.', index_name)\n",
        "  return inverted"
      ]
    },
    {
      "cell_type": "markdown",
      "source": [
        "write as pikle file to the bucket"
      ],
      "metadata": {
        "id": "Hd-JUor42vT7"
      }
    },
    {
      "cell_type": "code",
      "execution_count": null,
      "metadata": {
        "id": "PzbGV_KLUc1g"
      },
      "outputs": [],
      "source": [
        "title_index = invertedIndexBM25(title_data,\"title_BM25\", False)\n",
        "# upload to gs\n",
        "index_src = \"title_BM25.pkl\"\n",
        "index_dst = f'gs://{bucket_name}/title/{index_src}'\n",
        "!gsutil cp $index_src $index_dst"
      ]
    },
    {
      "cell_type": "code",
      "execution_count": null,
      "metadata": {
        "id": "Hf2XLVTtaw6U"
      },
      "outputs": [],
      "source": [
        "title_index = invertedIndexBM25(title_data,\"body_BM25\", True)\n",
        "# upload to gs\n",
        "index_src = \"body_BM25.pkl\"\n",
        "index_dst = f'gs://{bucket_name}/body/{index_src}'\n",
        "!gsutil cp $index_src $index_dst\n",
        "!gsutil ls -lh $index_dst"
      ]
    }
  ],
  "metadata": {
    "colab": {
      "provenance": []
    },
    "kernelspec": {
      "display_name": "Python 3",
      "name": "python3"
    },
    "language_info": {
      "name": "python"
    }
  },
  "nbformat": 4,
  "nbformat_minor": 0
}