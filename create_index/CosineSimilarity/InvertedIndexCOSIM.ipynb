{
  "cells": [
    {
      "cell_type": "markdown",
      "metadata": {
        "id": "F-i_hiHp3U_1"
      },
      "source": [
        "## Inverted Index with Cosine Similarity and TFIDF"
      ]
    },
    {
      "cell_type": "code",
      "execution_count": null,
      "metadata": {
        "id": "ANUvlorzW4vV",
        "outputId": "d1afe730-403e-488d-aa85-b949ca746d96"
      },
      "outputs": [
        {
          "name": "stdout",
          "output_type": "stream",
          "text": [
            "NAME          PLATFORM  PRIMARY_WORKER_COUNT  SECONDARY_WORKER_COUNT  STATUS   ZONE           SCHEDULED_DELETE\r\n",
            "cluster-317e  GCE       3                                             RUNNING  us-central1-a\r\n"
          ]
        }
      ],
      "source": [
        "# if the following command generates an error, you probably didn't enable\n",
        "# the cluster security option \"Allow API access to all Google Cloud services\"\n",
        "# under Manage Security → Project Access when setting up the cluster\n",
        "!gcloud dataproc clusters list --region us-central1"
      ]
    },
    {
      "cell_type": "code",
      "execution_count": null,
      "metadata": {
        "id": "8CRwB7nDW6OK",
        "outputId": "fed0d9f5-327a-4005-c5bf-e0a9a7576e45"
      },
      "outputs": [
        {
          "name": "stdout",
          "output_type": "stream",
          "text": [
            "\u001b[33mWARNING: Running pip as the 'root' user can result in broken permissions and conflicting behaviour with the system package manager. It is recommended to use a virtual environment instead: https://pip.pypa.io/warnings/venv\u001b[0m\u001b[33m\n",
            "\u001b[0m\u001b[33mWARNING: Running pip as the 'root' user can result in broken permissions and conflicting behaviour with the system package manager. It is recommended to use a virtual environment instead: https://pip.pypa.io/warnings/venv\u001b[0m\u001b[33m\n",
            "\u001b[0m-rw-r--r-- 1 root root 247882 Mar  2 22:44 /usr/lib/spark/jars/graphframes-0.8.2-spark3.1-s_2.12.jar\n"
          ]
        },
        {
          "name": "stderr",
          "output_type": "stream",
          "text": [
            "[nltk_data] Downloading package stopwords to /root/nltk_data...\n",
            "[nltk_data]   Package stopwords is already up-to-date!\n"
          ]
        }
      ],
      "source": [
        "!pip install -q google-cloud-storage==1.43.0\n",
        "!pip install -q graphframes\n",
        "\n",
        "import pyspark\n",
        "import sys\n",
        "from collections import Counter, OrderedDict, defaultdict\n",
        "import itertools\n",
        "from itertools import islice, count, groupby\n",
        "import pandas as pd\n",
        "import os\n",
        "import re\n",
        "from operator import itemgetter\n",
        "import nltk\n",
        "from nltk.stem.porter import *\n",
        "from nltk.corpus import stopwords\n",
        "from time import time\n",
        "from pathlib import Path\n",
        "import pickle\n",
        "import pandas as pd\n",
        "from google.cloud import storage\n",
        "import math\n",
        "import builtins\n",
        "from contextlib import closing\n",
        "\n",
        "import hashlib\n",
        "def _hash(s):\n",
        "    return hashlib.blake2b(bytes(s, encoding='utf8'), digest_size=5).hexdigest()\n",
        "\n",
        "nltk.download('stopwords')\n",
        "\n",
        "# if nothing prints here you forgot to include the initialization script when starting the cluster\n",
        "!ls -l /usr/lib/spark/jars/graph*\n"
      ]
    },
    {
      "cell_type": "code",
      "execution_count": null,
      "metadata": {
        "id": "vQKd0mpIW7bG"
      },
      "outputs": [],
      "source": [
        "from pyspark.sql import *\n",
        "from pyspark.sql.functions import *\n",
        "from pyspark import SparkContext, SparkConf, SparkFiles\n",
        "from pyspark.sql import SQLContext\n",
        "from graphframes import *"
      ]
    },
    {
      "cell_type": "code",
      "execution_count": null,
      "metadata": {
        "id": "QgbE_L91W8t7",
        "outputId": "9e33f072-331a-4a01-c2b0-cf0a35ad5aaa"
      },
      "outputs": [
        {
          "data": {
            "text/html": [
              "\n",
              "            <div>\n",
              "                <p><b>SparkSession - hive</b></p>\n",
              "                \n",
              "        <div>\n",
              "            <p><b>SparkContext</b></p>\n",
              "\n",
              "            <p><a href=\"http://cluster-317e-m.c.proven-reality-390308.internal:41811\">Spark UI</a></p>\n",
              "\n",
              "            <dl>\n",
              "              <dt>Version</dt>\n",
              "                <dd><code>v3.3.2</code></dd>\n",
              "              <dt>Master</dt>\n",
              "                <dd><code>yarn</code></dd>\n",
              "              <dt>AppName</dt>\n",
              "                <dd><code>PySparkShell</code></dd>\n",
              "            </dl>\n",
              "        </div>\n",
              "        \n",
              "            </div>\n",
              "        "
            ],
            "text/plain": [
              "<pyspark.sql.session.SparkSession at 0x7fd556c01810>"
            ]
          },
          "execution_count": 4,
          "metadata": {},
          "output_type": "execute_result"
        }
      ],
      "source": [
        "spark"
      ]
    },
    {
      "cell_type": "code",
      "execution_count": null,
      "metadata": {
        "id": "WEkv0RvHW-SR"
      },
      "outputs": [],
      "source": [
        "# Put your bucket name below and make sure you can access it without an error\n",
        "bucket_name = '208564682ri'\n",
        "full_path = f\"gs://{bucket_name}/\"\n",
        "paths=[]\n",
        "\n",
        "client = storage.Client()\n",
        "blobs = client.list_blobs(bucket_name)\n",
        "\n",
        "for b in blobs:\n",
        "    if b.name != 'graphframes.sh' and not b.name.startswith(\"postings_gcp\"):\n",
        "        paths.append(full_path+b.name)"
      ]
    },
    {
      "cell_type": "code",
      "execution_count": null,
      "metadata": {
        "id": "iFiKPJSXW_v6"
      },
      "outputs": [],
      "source": [
        "parquetFile = spark.read.parquet(*paths)\n",
        "body_data = parquetFile.select(\"text\", \"id\").rdd\n"
      ]
    },
    {
      "cell_type": "code",
      "execution_count": null,
      "metadata": {
        "id": "WPCKR89vXCJp"
      },
      "outputs": [],
      "source": [
        "# Count number of wiki pages\n",
        "parquetFile.count()"
      ]
    },
    {
      "cell_type": "code",
      "execution_count": null,
      "metadata": {
        "id": "RKLfIeyyXFXX"
      },
      "outputs": [],
      "source": [
        "# if nothing prints here you forgot to upload the file inverted_index_gcp.py to the home dir\n",
        "%cd -q /home/dataproc\n",
        "!ls inverted_index_gcp.py"
      ]
    },
    {
      "cell_type": "code",
      "execution_count": null,
      "metadata": {
        "id": "KyORy_27XGVS"
      },
      "outputs": [],
      "source": [
        "# adding our python module to the cluster\n",
        "sc.addFile(\"/home/dataproc/inverted_index_gcp.py\")\n",
        "sys.path.insert(0,SparkFiles.getRootDirectory())\n",
        "from inverted_index_gcp import InvertedIndex"
      ]
    },
    {
      "cell_type": "markdown",
      "metadata": {
        "id": "rCOhymrt4sR9"
      },
      "source": [
        "# Building an inverted index"
      ]
    },
    {
      "cell_type": "markdown",
      "metadata": {
        "id": "dIMlTaE23uC_"
      },
      "source": [
        "Remove stop words, tokenize and reduce words"
      ]
    },
    {
      "cell_type": "code",
      "execution_count": null,
      "metadata": {
        "id": "oy8bELvXXHTt"
      },
      "outputs": [],
      "source": [
        "english_stopwords = frozenset(stopwords.words('english'))\n",
        "corpus_stopwords = [\"category\", \"references\", \"also\", \"external\", \"links\",\n",
        "                    \"may\", \"first\", \"see\", \"history\", \"people\", \"one\", \"two\",\n",
        "                    \"part\", \"thumb\", \"including\", \"second\", \"following\",\n",
        "                    \"many\", \"however\", \"would\", \"became\"]\n",
        "\n",
        "all_stopwords = english_stopwords.union(corpus_stopwords)\n",
        "RE_WORD = re.compile(r\"\"\"[\\#\\@\\w](['\\-]?\\w){2,24}\"\"\", re.UNICODE)\n",
        "\n",
        "NUM_BUCKETS = 124\n",
        "def token2bucket_id(token):\n",
        "    return int(_hash(token),16) % NUM_BUCKETS\n",
        "\n",
        "def word_count(text, id):\n",
        "    ''' Count the frequency of each word in `text` (tf) that is not included in\n",
        "    `all_stopwords` and return entries that will go into our posting lists.\n",
        "    Parameters:'''\n",
        "    tokens = [token.group() for token in RE_WORD.finditer(text.lower())]\n",
        "    tokens = [token for token in tokens if token not in all_stopwords]\n",
        "    word_counter = Counter(tokens)\n",
        "    res_list = [(token, (id, tf)) for token, tf in word_counter.items()]\n",
        "    return res_list\n",
        "\n",
        "def reduce_word_counts(unsorted_pl):\n",
        "    ''' Returns a sorted posting list by wiki_id.'''\n",
        "    return sorted(unsorted_pl)"
      ]
    },
    {
      "cell_type": "markdown",
      "metadata": {
        "id": "d20j--3v36Qk"
      },
      "source": [
        "Calculate df and write to the bucket"
      ]
    },
    {
      "cell_type": "code",
      "execution_count": null,
      "metadata": {
        "id": "ZBiOfnoYXIjV"
      },
      "outputs": [],
      "source": [
        "def calculate_df(postings):\n",
        "  ''' Takes a posting list RDD and calculate the df for each token.'''\n",
        "  return postings.map(lambda x: (x[0], len(x[1]))).reduceByKey(lambda a, b: a + b)\n",
        "\n",
        "\n",
        "NUM_BUCKETS = 124\n",
        "def token2bucket_id(token):\n",
        "    return int(_hash(token),16) % NUM_BUCKETS\n",
        "\n",
        "def partition_postings_and_write(postings):\n",
        "    ''' A function that partitions the posting lists into buckets, writes out\n",
        "    all posting lists in a bucket to disk, and returns the posting locations for\n",
        "    each bucket. Partitioning should be done through the use of `token2bucket`\n",
        "    above. Writing to disk should use the function  `write_a_posting_list`, a\n",
        "    static method implemented in inverted_index_colab.py under the InvertedIndex\n",
        "    class. '''\n",
        "    bucket_sorted = postings.groupBy(lambda x: token2bucket_id(x[0]))\n",
        "    posting_locations = bucket_sorted.map(lambda x: (InvertedIndex.write_a_posting_list(x ,\".\", bucket_name)))\n",
        "    return posting_locations"
      ]
    },
    {
      "cell_type": "code",
      "execution_count": null,
      "metadata": {
        "id": "_QD9mm8wXMUo"
      },
      "outputs": [],
      "source": [
        "def tfIdf(term_freq, df, doc_len, N):\n",
        "    tf = term_freq / doc_len\n",
        "    idf = math.log(N / df)\n",
        "    return tf * idf"
      ]
    },
    {
      "cell_type": "markdown",
      "metadata": {
        "id": "z0ZCr-GO7cOv"
      },
      "source": [
        "body/title index"
      ]
    },
    {
      "cell_type": "code",
      "execution_count": null,
      "metadata": {
        "id": "L94mvodi3S7H"
      },
      "outputs": [],
      "source": [
        "body=body_data\n",
        "index_name = \"body_index\""
      ]
    },
    {
      "cell_type": "code",
      "execution_count": null,
      "metadata": {
        "id": "dexed8vPXNgB"
      },
      "outputs": [],
      "source": [
        "# Create inverted index instance\n",
        "inverted = InvertedIndex()\n",
        "#create the possting lists\n",
        "word_counts = body.flatMap(lambda x: word_count(x[0], x[1]))\n",
        "postings = word_counts.groupByKey().mapValues(reduce_word_counts)\n",
        "postings_filtered = postings.filter(lambda x: len(x[1])>50)\n",
        "\n",
        "#calculate df\n",
        "w2df = calculate_df(postings_filtered)\n",
        "w2df_dict = w2df.collectAsMap()\n",
        "\n",
        "# calculate tf\n",
        "tf = postings_filtered.flatMap(lambda x: [(post[0], (x[0],post[1])) for post in x[1]] )\n",
        "tf = tf.groupByKey().mapValues(list)\n",
        "documentes_length_RDD = tf.map(lambda x: (x[0],builtins.sum([tp[1] for tp in x[1]])))\n",
        "documentes_length = documentes_length_RDD.collectAsMap()\n",
        "# calculate tf-idf\n",
        "tf_idf = tf.flatMap(lambda x: [(x[0], (curr[0], tfIdf(curr[1], inverted.df[curr[0]], documentes_length[x[0]], inverted.N))) for curr in x[1]]).groupByKey()\n",
        "tf_idf = tf_idf.mapValues(lambda x: {tp[0]: tp[1] for tp in x})\n",
        "# calculate cosine similarity\n",
        "cosim = tf_idf.map(lambda x: (x[0],(doc_lens[x[0]],builtins.sum(math.pow(y,2) for y in x[1].values() ))))\n",
        "\n",
        "# partition posting lists and write out\n",
        "_ = partition_postings_and_write(postings).collect()\n",
        "# collect all posting lists locations into one super-set\n",
        "super_posting_locs = defaultdict(list)\n",
        "for blob in client.list_blobs(bucket_name, prefix='postings_gcp'):\n",
        "    if not blob.name.endswith(\"pickle\"):\n",
        "        continue\n",
        "    with blob.open(\"rb\") as f:\n",
        "        posting_locs = pickle.load(f)\n",
        "        for k, v in posting_locs.items():\n",
        "            super_posting_locs[k].extend(v)\n",
        "\n",
        "# Adding the posting locations dictionary to the inverted index\n",
        "inverted.posting_locs = super_posting_locs\n",
        "# Add df and the cosine similarity dictionary to the inverted index\n",
        "inverted.df = w2df_dict\n",
        "inverted.similarity = cosim.collectAsMap()\n",
        "\n"
      ]
    },
    {
      "cell_type": "markdown",
      "metadata": {
        "id": "mYmfQ6r44Mov"
      },
      "source": [
        "Write as pickle to the bucket"
      ]
    },
    {
      "cell_type": "code",
      "execution_count": null,
      "metadata": {
        "id": "aB7HjY28XOii"
      },
      "outputs": [],
      "source": [
        "# write the global stats out\n",
        "inverted.write_index('.', index_name, bucket_name)\n",
        "# upload to gs\n",
        "index_src = \"body_index.pkl\"\n",
        "index_dst = f'gs://{bucket_name}/body/{index_src}'\n",
        "!gsutil cp $index_src $index_dst\n",
        "!gsutil ls -lh $index_dst"
      ]
    }
  ],
  "metadata": {
    "colab": {
      "provenance": []
    },
    "kernelspec": {
      "display_name": "PySpark",
      "language": "python",
      "name": "pyspark"
    },
    "language_info": {
      "codemirror_mode": {
        "name": "ipython",
        "version": 3
      },
      "file_extension": ".py",
      "mimetype": "text/x-python",
      "name": "python",
      "nbconvert_exporter": "python",
      "pygments_lexer": "ipython3",
      "version": "3.10.8"
    }
  },
  "nbformat": 4,
  "nbformat_minor": 0
}
