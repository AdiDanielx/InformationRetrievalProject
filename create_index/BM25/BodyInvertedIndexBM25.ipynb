{
  "cells": [
    {
      "cell_type": "markdown",
      "metadata": {
        "id": "2MfcIUDKOTgL"
      },
      "source": [
        "## Body Inverted Index with BM25"
      ]
    },
    {
      "cell_type": "code",
      "execution_count": null,
      "metadata": {
        "id": "uJ5j0BarORAZ",
        "outputId": "8f39562e-c8c3-4f78-95e6-59d45036cba9"
      },
      "outputs": [
        {
          "name": "stdout",
          "output_type": "stream",
          "text": [
            "NAME          PLATFORM  PRIMARY_WORKER_COUNT  SECONDARY_WORKER_COUNT  STATUS   ZONE           SCHEDULED_DELETE\r\n",
            "cluster-460f  GCE       4                                             RUNNING  us-central1-a\r\n"
          ]
        }
      ],
      "source": [
        "# if the following command generates an error, you probably didn't enable\n",
        "# the cluster security option \"Allow API access to all Google Cloud services\"\n",
        "# under Manage Security → Project Access when setting up the cluster\n",
        "!gcloud dataproc clusters list --region us-central1"
      ]
    },
    {
      "cell_type": "markdown",
      "metadata": {
        "id": "LZZfhzUfOypE"
      },
      "source": [
        "Imports & Setup"
      ]
    },
    {
      "cell_type": "code",
      "execution_count": null,
      "metadata": {
        "id": "kZoZsaTtO2ZN",
        "outputId": "e249a4bf-bbeb-4f15-a6d3-75ef18b5b30b"
      },
      "outputs": [
        {
          "name": "stdout",
          "output_type": "stream",
          "text": [
            "\u001b[33mWARNING: Running pip as the 'root' user can result in broken permissions and conflicting behaviour with the system package manager. It is recommended to use a virtual environment instead: https://pip.pypa.io/warnings/venv\u001b[0m\u001b[33m\n",
            "\u001b[0m\u001b[33mWARNING: Running pip as the 'root' user can result in broken permissions and conflicting behaviour with the system package manager. It is recommended to use a virtual environment instead: https://pip.pypa.io/warnings/venv\u001b[0m\u001b[33m\n",
            "\u001b[0m-rw-r--r-- 1 root root 247882 Mar  7 20:38 /usr/lib/spark/jars/graphframes-0.8.2-spark3.1-s_2.12.jar\n"
          ]
        },
        {
          "name": "stderr",
          "output_type": "stream",
          "text": [
            "[nltk_data] Downloading package stopwords to /root/nltk_data...\n",
            "[nltk_data]   Unzipping corpora/stopwords.zip.\n"
          ]
        }
      ],
      "source": [
        "!pip install -q google-cloud-storage==1.43.0\n",
        "!pip install -q graphframes\n",
        "\n",
        "import pyspark\n",
        "import sys\n",
        "from collections import Counter, OrderedDict, defaultdict\n",
        "import itertools\n",
        "from itertools import islice, count, groupby\n",
        "import pandas as pd\n",
        "import os\n",
        "import re\n",
        "from operator import itemgetter\n",
        "import nltk\n",
        "from nltk.stem.porter import *\n",
        "from nltk.corpus import stopwords\n",
        "from time import time\n",
        "from pathlib import Path\n",
        "import pickle\n",
        "import pandas as pd\n",
        "from google.cloud import storage\n",
        "import math\n",
        "import builtins\n",
        "from contextlib import closing\n",
        "\n",
        "import hashlib\n",
        "def _hash(s):\n",
        "    return hashlib.blake2b(bytes(s, encoding='utf8'), digest_size=5).hexdigest()\n",
        "\n",
        "nltk.download('stopwords')\n",
        "\n",
        "# if nothing prints here you forgot to include the initialization script when starting the cluster\n",
        "!ls -l /usr/lib/spark/jars/graph*\n"
      ]
    },
    {
      "cell_type": "code",
      "execution_count": null,
      "metadata": {
        "id": "MBo8y5v5PDaG"
      },
      "outputs": [],
      "source": [
        "from pyspark.sql import *\n",
        "from pyspark.sql.functions import *\n",
        "from pyspark import SparkContext, SparkConf, SparkFiles\n",
        "from pyspark.sql import SQLContext\n",
        "from graphframes import *"
      ]
    },
    {
      "cell_type": "code",
      "execution_count": null,
      "metadata": {
        "id": "zQFJdFhAPFZD",
        "outputId": "248fd9f8-6660-40cc-e616-4f4927c4213a"
      },
      "outputs": [
        {
          "data": {
            "text/html": [
              "\n",
              "            <div>\n",
              "                <p><b>SparkSession - hive</b></p>\n",
              "                \n",
              "        <div>\n",
              "            <p><b>SparkContext</b></p>\n",
              "\n",
              "            <p><a href=\"http://cluster-460f-m.c.proven-reality-390308.internal:41869\">Spark UI</a></p>\n",
              "\n",
              "            <dl>\n",
              "              <dt>Version</dt>\n",
              "                <dd><code>v3.3.2</code></dd>\n",
              "              <dt>Master</dt>\n",
              "                <dd><code>yarn</code></dd>\n",
              "              <dt>AppName</dt>\n",
              "                <dd><code>PySparkShell</code></dd>\n",
              "            </dl>\n",
              "        </div>\n",
              "        \n",
              "            </div>\n",
              "        "
            ],
            "text/plain": [
              "<pyspark.sql.session.SparkSession at 0x7f057d4c0d00>"
            ]
          },
          "execution_count": 4,
          "metadata": {},
          "output_type": "execute_result"
        }
      ],
      "source": [
        "spark"
      ]
    },
    {
      "cell_type": "code",
      "execution_count": null,
      "metadata": {
        "id": "yTfI1A_OPWlw"
      },
      "outputs": [],
      "source": [
        "# Put your bucket name below and make sure you can access it without an error\n",
        "bucket_name = '208564682bodyindex'\n",
        "full_path = f\"gs://{bucket_name}/\"\n",
        "paths=[]\n",
        "\n",
        "client = storage.Client()\n",
        "Base_dir = SparkFiles.getRootDirectory()\n",
        "blobs = client.list_blobs(bucket_name)\n",
        "for b in blobs:\n",
        "    if b.name != 'graphframes.sh':\n",
        "        paths.append(full_path+b.name)\n",
        "# for b in blobs:\n",
        "#     if b.name != 'graphframes.sh' and not b.name.startswith(\"postings_gcp\"):\n",
        "#         paths.append(full_path+b.name)"
      ]
    },
    {
      "cell_type": "markdown",
      "metadata": {
        "id": "GIA6uW21Ph36"
      },
      "source": [
        "#Building an inverted index\n",
        "\n",
        "Here, we read the entire corpus to an rdd, directly from Google Storage Bucket and use your code from Colab to construct an inverted index."
      ]
    },
    {
      "cell_type": "code",
      "execution_count": null,
      "metadata": {
        "id": "ZBXgQLfTPY1z",
        "outputId": "5dd928d6-1edc-44d1-d651-d01464519e7b"
      },
      "outputs": [
        {
          "name": "stderr",
          "output_type": "stream",
          "text": [
            "                                                                                \r"
          ]
        }
      ],
      "source": [
        "parquetFile = spark.read.parquet(*paths)\n",
        "body_data = parquetFile.select(\"text\", \"id\").rdd\n",
        "# title_data = parquetFile.select(\"title\", \"id\").rdd\n"
      ]
    },
    {
      "cell_type": "code",
      "execution_count": null,
      "metadata": {
        "id": "JGoL04qH8DQC",
        "outputId": "23ab0723-9489-418b-cc08-f3b513fa1802"
      },
      "outputs": [
        {
          "name": "stderr",
          "output_type": "stream",
          "text": [
            "                                                                                \r"
          ]
        },
        {
          "data": {
            "text/plain": [
              "6348910"
            ]
          },
          "execution_count": 7,
          "metadata": {},
          "output_type": "execute_result"
        }
      ],
      "source": [
        "# Count number of wiki pages\n",
        "parquetFile.count()\n",
        "body_data.count()"
      ]
    },
    {
      "cell_type": "code",
      "execution_count": null,
      "metadata": {
        "id": "7ivc5q4VP3uD",
        "outputId": "232276ba-ff79-4436-db2e-c5bcbd489035"
      },
      "outputs": [
        {
          "name": "stdout",
          "output_type": "stream",
          "text": [
            "inverted_index_gcp.py\r\n"
          ]
        }
      ],
      "source": [
        "# if nothing prints here you forgot to upload the file inverted_index_gcp.py to the home dir\n",
        "%cd -q /home/dataproc\n",
        "!ls inverted_index_gcp.py"
      ]
    },
    {
      "cell_type": "code",
      "execution_count": null,
      "metadata": {
        "id": "oOocAHTIP6Km"
      },
      "outputs": [],
      "source": [
        "# adding our python module to the cluster\n",
        "sc.addFile(\"/home/dataproc/inverted_index_gcp.py\")\n",
        "sys.path.insert(0,SparkFiles.getRootDirectory())\n",
        "from inverted_index_gcp import InvertedIndex"
      ]
    },
    {
      "cell_type": "markdown",
      "metadata": {
        "id": "9YoCf41MQOn6"
      },
      "source": [
        "calculates the term-frequency (tf) for each word in a single document. map function. The functions gets the text and the wiki id, calculates the tf and returns list of tuples in the form of (token, (wiki_id, tf))."
      ]
    },
    {
      "cell_type": "code",
      "execution_count": null,
      "metadata": {
        "id": "UTmVNr_kQdmn"
      },
      "outputs": [],
      "source": [
        "english_stopwords = frozenset(stopwords.words('english'))\n",
        "corpus_stopwords = [\"category\", \"references\", \"also\", \"external\", \"links\",\n",
        "                    \"may\", \"first\", \"see\", \"history\", \"people\", \"one\", \"two\",\n",
        "                    \"part\", \"thumb\", \"including\", \"second\", \"following\",\n",
        "                    \"many\", \"however\", \"would\", \"became\"]\n",
        "\n",
        "all_stopwords = english_stopwords.union(corpus_stopwords)\n",
        "RE_WORD = re.compile(r\"\"\"[\\#\\@\\w](['\\-]?\\w){2,24}|3D\"\"\", re.UNICODE)\n",
        "\n",
        "NUM_BUCKETS = 124\n",
        "def token2bucket_id(token):\n",
        "    return int(_hash(token),16) % NUM_BUCKETS\n",
        "\n",
        "def word_count(text, id):\n",
        "    ''' Count the frequency of each word in `text` (tf) that is not included in\n",
        "    `all_stopwords` and return entries that will go into our posting lists.\n",
        "    Parameters:'''\n",
        "    tokens = [token.group() for token in RE_WORD.finditer(text.lower())]\n",
        "    tokens = [token for token in tokens if token not in all_stopwords]\n",
        "    word_counter = Counter(tokens)\n",
        "    res_list = [(token, (id, tf)) for token, tf in word_counter.items()]\n",
        "    return res_list\n",
        "\n",
        "def reduce_word_counts(unsorted_pl):\n",
        "    ''' Returns a sorted posting list by wiki_id.'''\n",
        "    return sorted(unsorted_pl)"
      ]
    },
    {
      "cell_type": "markdown",
      "metadata": {
        "id": "gQdFH5xTQ9dk"
      },
      "source": [
        "operates on the pairs returned by word_count. The functions gets a list of values (unsorted posting list) and sorts it.\n",
        "partitions the posting list, writes out each bucket, and returns information about the location on disk of each posting list."
      ]
    },
    {
      "cell_type": "code",
      "execution_count": null,
      "metadata": {
        "id": "U1KqEwh4RG8k"
      },
      "outputs": [],
      "source": [
        "def calculate_df(postings):\n",
        "    ''' Takes a posting list RDD and calculate the df for each token.'''\n",
        "    return postings.map(lambda x: (x[0], len(x[1]))).reduceByKey(lambda a, b: a + b)\n",
        "\n",
        "\n",
        "NUM_BUCKETS = 124\n",
        "def token2bucket_id(token):\n",
        "    return int(_hash(token),16) % NUM_BUCKETS\n",
        "\n",
        "def partition_postings_and_write(postings):\n",
        "    ''' A function that partitions the posting lists into buckets, writes out\n",
        "    all posting lists in a bucket to disk, and returns the posting locations for\n",
        "    each bucket. Partitioning should be done through the use of `token2bucket`\n",
        "    above. Writing to disk should use the function  `write_a_posting_list`, a\n",
        "    static method implemented in inverted_index_colab.py under the InvertedIndex\n",
        "    class. '''\n",
        "    bucket_sorted = postings.groupBy(lambda x: token2bucket_id(x[0]))\n",
        "    posting_locations = bucket_sorted.map(lambda x: (InvertedIndex.write_a_posting_list(x ,\"POSTING\", bucket_name)))\n",
        "    return posting_locations"
      ]
    },
    {
      "cell_type": "code",
      "execution_count": null,
      "metadata": {
        "id": "Er1uJBDh8DQD"
      },
      "outputs": [],
      "source": [
        "def bm25Score(doc_len, avgdl,k=1.5, b=0.75):\n",
        "    return k * (1 - b + b * (doc_len/avgdl))"
      ]
    },
    {
      "cell_type": "markdown",
      "metadata": {
        "id": "GHzQ5dFWSW8a"
      },
      "source": [
        "# inverted Index  body"
      ]
    },
    {
      "cell_type": "code",
      "execution_count": null,
      "metadata": {
        "id": "hIgvMwLs8DQE"
      },
      "outputs": [],
      "source": [
        "titles = body_data\n",
        "index_name =\"body_BM25\"\n",
        "isBody = True"
      ]
    },
    {
      "cell_type": "code",
      "execution_count": 1,
      "metadata": {
        "id": "KtTRXi2bSYHP"
      },
      "outputs": [],
      "source": [
        "# Create inverted index instance\n",
        "inverted = InvertedIndex()\n",
        "word_counts = titles.flatMap(lambda x: word_count(x[0], x[1]))\n",
        "postings = word_counts.groupByKey().mapValues(reduce_word_counts)\n",
        "if isBody:\n",
        "    postings = postings.filter(lambda x: len(x[1])>50)\n",
        "#calculate df\n",
        "w2df = calculate_df(postings)\n",
        "w2df_dict = w2df.collectAsMap()\n",
        "# calculate tf\n",
        "tf = postings.flatMap(lambda x: [(post[0], (x[0],post[1])) for post in x[1]] )\n",
        "tf = tf.groupByKey().mapValues(list)\n",
        "# documentes_length = tf.map(lambda x: (x[0],builtins.sum([tp[1] for tp in x[1]]))).collectAsMap()\n",
        "documentes_length_RDD = tf.map(lambda x: (x[0], builtins.sum([tp[1] for tp in x[1]])))\n",
        "documentes_length = dict(documentes_length_RDD.collect())\n",
        "\n",
        "# calculate the avarege len of docs\n",
        "avargeLength = builtins.sum(documentes_length.values())/len(documentes_length)\n",
        "\n",
        "# BM25 calculations\n",
        "bm25 = documentes_length_RDD.map(lambda x:(x[0],bm25Score(x[1], avargeLength,1.5,0.75)))\n",
        "\n",
        "# partition posting lists and write out\n",
        "_ = partition_postings_and_write(postings).collect()\n",
        "# collect all posting lists locations into one super-set\n",
        "super_posting_locs = defaultdict(list)\n",
        "for blob in client.list_blobs(bucket_name):\n",
        "    if not blob.name.endswith(\"pickle\"):\n",
        "        continue\n",
        "    with blob.open(\"rb\") as f:\n",
        "        posting_locs = pickle.load(f)\n",
        "        for k, v in posting_locs.items():\n",
        "            super_posting_locs[k].extend(v)\n",
        "\n",
        "# Adding the posting locations dictionary to the inverted index\n",
        "inverted.posting_locs = super_posting_locs\n",
        "\n",
        "\n",
        "# Add the token - df dictionary to the inverted index\n",
        "inverted.df = w2df_dict\n",
        "inverted.N = titles.count()\n",
        "inverted.similarity = dict(bm25.collect())"
      ]
    },
    {
      "cell_type": "code",
      "execution_count": null,
      "metadata": {
        "id": "PzbGV_KLUc1g"
      },
      "outputs": [],
      "source": [
        "title_index = invertedIndexBM25(title_data,\"title_BM25\", False)\n",
        "# upload to gs\n",
        "index_src = \"title_BM25.pkl\"\n",
        "index_dst = f'gs://{bucket_name}/title/{index_src}'\n",
        "!gsutil cp $index_src $index_dst"
      ]
    },
    {
      "cell_type": "code",
      "execution_count": null,
      "metadata": {
        "id": "Hf2XLVTtaw6U",
        "outputId": "2df0fab2-ffe2-4653-923b-985290d5aa73"
      },
      "outputs": [
        {
          "name": "stdout",
          "output_type": "stream",
          "text": [
            "Copying file://body_BM25.pkl [Content-Type=application/octet-stream]...\n",
            "\\ [1 files][103.2 MiB/103.2 MiB]                                                \n",
            "Operation completed over 1 objects/103.2 MiB.                                    \n",
            "103.18 MiB  2024-03-07T22:27:53Z  gs://208564682bodyindex/body/body_BM25.pkl\n",
            "TOTAL: 1 objects, 108189989 bytes (103.18 MiB)\n"
          ]
        }
      ],
      "source": [
        "# write the global stats out\n",
        "inverted.write_index('.', index_name)\n",
        "index_src = \"body_BM25.pkl\"\n",
        "index_dst = f'gs://{bucket_name}/body/{index_src}'\n",
        "!gsutil cp $index_src $index_dst\n",
        "!gsutil ls -lh $index_dst"
      ]
    }
  ],
  "metadata": {
    "colab": {
      "provenance": []
    },
    "kernelspec": {
      "display_name": "PySpark",
      "language": "python",
      "name": "pyspark"
    },
    "language_info": {
      "codemirror_mode": {
        "name": "ipython",
        "version": 3
      },
      "file_extension": ".py",
      "mimetype": "text/x-python",
      "name": "python",
      "nbconvert_exporter": "python",
      "pygments_lexer": "ipython3",
      "version": "3.10.8"
    }
  },
  "nbformat": 4,
  "nbformat_minor": 0
}