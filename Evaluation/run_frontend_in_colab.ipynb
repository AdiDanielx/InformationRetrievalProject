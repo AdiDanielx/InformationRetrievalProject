{
  "nbformat": 4,
  "nbformat_minor": 0,
  "metadata": {
    "colab": {
      "provenance": []
    },
    "kernelspec": {
      "name": "python3",
      "display_name": "Python 3"
    },
    "language_info": {
      "name": "python"
    }
  },
  "cells": [
    {
      "cell_type": "code",
      "source": [
        "# download nltk stopwords\n",
        "import nltk\n",
        "nltk.download('stopwords')"
      ],
      "metadata": {
        "id": "bCPDHP7zTQJZ",
        "colab": {
          "base_uri": "https://localhost:8080/"
        },
        "outputId": "28fcd6da-1cf6-46a4-9bbf-523566274e10"
      },
      "execution_count": null,
      "outputs": [
        {
          "output_type": "stream",
          "name": "stderr",
          "text": [
            "[nltk_data] Downloading package stopwords to /root/nltk_data...\n",
            "[nltk_data]   Unzipping corpora/stopwords.zip.\n"
          ]
        },
        {
          "output_type": "execute_result",
          "data": {
            "text/plain": [
              "True"
            ]
          },
          "metadata": {},
          "execution_count": 57
        }
      ]
    },
    {
      "cell_type": "code",
      "source": [
        "# Install a particular version of `google-cloud-storage` because (oddly enough)\n",
        "# the  version on Colab and GCP is old. A dependency error below is okay.\n",
        "!pip install -q google-cloud-storage==1.43.0"
      ],
      "metadata": {
        "id": "lAt6KT8xOgHH",
        "colab": {
          "base_uri": "https://localhost:8080/"
        },
        "outputId": "27cd7fcf-7ff0-4bc2-e469-8dc99bd0f03d"
      },
      "execution_count": null,
      "outputs": [
        {
          "output_type": "stream",
          "name": "stdout",
          "text": [
            "\u001b[?25l     \u001b[90m━━━━━━━━━━━━━━━━━━━━━━━━━━━━━━━━━━━━━━━━\u001b[0m \u001b[32m0.0/106.6 kB\u001b[0m \u001b[31m?\u001b[0m eta \u001b[36m-:--:--\u001b[0m\r\u001b[2K     \u001b[91m━━━━━━━━━━━━━━━━━━━━━━━━━━\u001b[0m\u001b[91m╸\u001b[0m\u001b[90m━━━━━━━━━━━━━\u001b[0m \u001b[32m71.7/106.6 kB\u001b[0m \u001b[31m2.1 MB/s\u001b[0m eta \u001b[36m0:00:01\u001b[0m\r\u001b[2K     \u001b[90m━━━━━━━━━━━━━━━━━━━━━━━━━━━━━━━━━━━━━━━━\u001b[0m \u001b[32m106.6/106.6 kB\u001b[0m \u001b[31m2.1 MB/s\u001b[0m eta \u001b[36m0:00:00\u001b[0m\n",
            "\u001b[?25h\u001b[31mERROR: pip's dependency resolver does not currently take into account all the packages that are installed. This behaviour is the source of the following dependency conflicts.\n",
            "bigframes 0.22.0 requires google-cloud-storage>=2.0.0, but you have google-cloud-storage 1.43.0 which is incompatible.\u001b[0m\u001b[31m\n",
            "\u001b[0m"
          ]
        }
      ]
    },
    {
      "cell_type": "code",
      "source": [
        "# authenticate below for Google Storage access as needed\n",
        "from google.colab import auth\n",
        "auth.authenticate_user()"
      ],
      "metadata": {
        "id": "-oKFly5jFLFn"
      },
      "execution_count": null,
      "outputs": []
    },
    {
      "cell_type": "code",
      "source": [
        "!pip install pyngrok"
      ],
      "metadata": {
        "colab": {
          "base_uri": "https://localhost:8080/"
        },
        "id": "Aeoj64DuuGbx",
        "outputId": "a911507c-9427-457e-d1d6-489d37430d21"
      },
      "execution_count": null,
      "outputs": [
        {
          "output_type": "stream",
          "name": "stdout",
          "text": [
            "Requirement already satisfied: pyngrok in /usr/local/lib/python3.10/dist-packages (7.1.4)\n",
            "Requirement already satisfied: PyYAML>=5.1 in /usr/local/lib/python3.10/dist-packages (from pyngrok) (6.0.1)\n"
          ]
        }
      ]
    },
    {
      "cell_type": "code",
      "source": [
        "# TODO: sign up for an ngrok account\n",
        "# then put your ngrok token below and execute\n",
        "from pyngrok import ngrok\n",
        "ngrok.set_auth_token(\"2dJZdCzvBrdCaUcY1Wt7gxHn3Mv_3nZEah9Bsrje6zEwpL8Lp\")"
      ],
      "metadata": {
        "id": "3E0IJAHOuDG1"
      },
      "execution_count": null,
      "outputs": []
    },
    {
      "cell_type": "markdown",
      "source": [
        "# Run the app"
      ],
      "metadata": {
        "id": "6dW0y91OVu5J"
      }
    },
    {
      "cell_type": "code",
      "source": [
        "# you need to upload your implementation of search_app.py\n",
        "import search_frontend as se\n",
        "import backend as beck"
      ],
      "metadata": {
        "id": "7opNkV6uRHIv"
      },
      "execution_count": null,
      "outputs": []
    },
    {
      "cell_type": "code",
      "source": [
        "# uncomment the code below and execute to reload the module when you make\n",
        "# changes to search_frontend.py (after you upload again).\n",
        "import importlib\n",
        "importlib.reload(se)\n",
        "importlib.reload(beck)"
      ],
      "metadata": {
        "id": "oTGXXYEXV5l8",
        "colab": {
          "base_uri": "https://localhost:8080/"
        },
        "outputId": "a8127c06-48e3-45e7-b78d-9ab367018b9d"
      },
      "execution_count": null,
      "outputs": [
        {
          "output_type": "execute_result",
          "data": {
            "text/plain": [
              "<module 'backend' from '/content/backend.py'>"
            ]
          },
          "metadata": {},
          "execution_count": 53
        }
      ]
    },
    {
      "cell_type": "code",
      "source": [
        "public_url = ngrok.connect(\"5000\", bind_tls=False).public_url\n",
        "print(f\" * ngrok tunnel \\\"{public_url}\\\" -> \\\"http://127.0.0.1:5000\\\"\")\n",
        "# Update any base URLs to use the public ngrok URL\n",
        "se.app.config[\"BASE_URL\"] = public_url\n",
        "se.app.run()"
      ],
      "metadata": {
        "id": "J5n9u9rFP_wD"
      },
      "execution_count": null,
      "outputs": []
    },
    {
      "cell_type": "markdown",
      "source": [
        "# Testing your app\n",
        "\n",
        "Once your app is running you can query it. You can simply do that by navigating to the URL that ngrok gave you above or through code in a different python session. For example, once the frontend app is running, you can navigate to:\n",
        "http://YOUR_SERVER_DOMAIN/search?query=hello+world where YOUR_SERVER_DOMAIN is something like XXXX-XX-XX-XX-XX.ngrok.io, which is printed above in Colab or that is your external IP on GCP.\n",
        "\n",
        "The code below shows how to issue a query from python. This is also how our testing code will issue queries to your search engine, so make sure to test your search engine this way after you deploy it to GCP and before submission. Command line instructions for deploying your search engine to GCP are available at `run_frontend_in_gcp.sh`. Note that we will not only issue training queries to your search engine, but also test queries, i.e. queries that you've never seen before."
      ],
      "metadata": {
        "id": "Na0MC_1nzDbi"
      }
    },
    {
      "cell_type": "code",
      "source": [
        "import json\n",
        "\n",
        "with open('queries_train.json', 'rt') as f:\n",
        "  queries = json.load(f)"
      ],
      "metadata": {
        "id": "EM5ePrRHojbG"
      },
      "execution_count": 1,
      "outputs": []
    },
    {
      "cell_type": "code",
      "source": [
        "def average_precision(true_list, predicted_list, k=40):\n",
        "    true_set = frozenset(true_list)\n",
        "    predicted_list = predicted_list[:k]\n",
        "    precisions = []\n",
        "    for i,doc_id in enumerate(predicted_list):\n",
        "        if doc_id in true_set:\n",
        "            prec = (len(precisions)+1) / (i+1)\n",
        "            precisions.append(prec)\n",
        "    if len(precisions) == 0:\n",
        "        return 0.0\n",
        "    return round(sum(precisions)/len(precisions),3)"
      ],
      "metadata": {
        "id": "gWimZWCOy3Ei"
      },
      "execution_count": 2,
      "outputs": []
    },
    {
      "cell_type": "code",
      "source": [
        "def precision_at_k(true_list, predicted_list, k):\n",
        "    true_set = frozenset(true_list)\n",
        "    predicted_list = predicted_list[:k]\n",
        "    if len(predicted_list) == 0:\n",
        "        return 0.0\n",
        "    return round(len([1 for doc_id in predicted_list if doc_id in true_set]) / len(predicted_list), 3)\n",
        "def recall_at_k(true_list, predicted_list, k):\n",
        "    true_set = frozenset(true_list)\n",
        "    predicted_list = predicted_list[:k]\n",
        "    if len(true_set) < 1:\n",
        "        return 1.0\n",
        "    return round(len([1 for doc_id in predicted_list if doc_id in true_set]) / len(true_set), 3)\n",
        "def f1_at_k(true_list, predicted_list, k):\n",
        "    p = precision_at_k(true_list, predicted_list, k)\n",
        "    r = recall_at_k(true_list, predicted_list, k)\n",
        "    if p == 0.0 or r == 0.0:\n",
        "        return 0.0\n",
        "    return round(2.0 / (1.0/p + 1.0/r), 3)\n",
        "def results_quality(true_list, predicted_list):\n",
        "    p5 = precision_at_k(true_list, predicted_list, 5)\n",
        "    f1_30 = f1_at_k(true_list, predicted_list, 30)\n",
        "    if p5 == 0.0 or f1_30 == 0.0:\n",
        "        return 0.0\n",
        "    return round(2.0 / (1.0/p5 + 1.0/f1_30), 3)\n",
        "\n",
        "assert precision_at_k(range(10), [1,2,3] , 2) == 1.0\n",
        "assert recall_at_k(   range(10), [10,5,3], 2) == 0.1\n",
        "assert precision_at_k(range(10), []      , 2) == 0.0\n",
        "assert precision_at_k([],        [1,2,3],  5) == 0.0\n",
        "assert recall_at_k(   [],        [10,5,3], 2) == 1.0\n",
        "assert recall_at_k(   range(10), [],       2) == 0.0\n",
        "assert f1_at_k(       [],        [1,2,3],  5) == 0.0\n",
        "assert f1_at_k(       range(10), [],       2) == 0.0\n",
        "assert f1_at_k(       range(10), [0,1,2],  2) == 0.333\n",
        "assert f1_at_k(       range(50), range(5), 30) == 0.182\n",
        "assert f1_at_k(       range(50), range(10), 30) == 0.333\n",
        "assert f1_at_k(       range(50), range(30), 30) == 0.75\n",
        "assert results_quality(range(50), range(5))  == 0.308\n",
        "assert results_quality(range(50), range(10)) == 0.5\n",
        "assert results_quality(range(50), range(30)) == 0.857\n",
        "assert results_quality(range(50), [-1]*5 + list(range(5,30))) == 0.0\n"
      ],
      "metadata": {
        "id": "geHKyFB4xkBe"
      },
      "execution_count": 3,
      "outputs": []
    },
    {
      "cell_type": "code",
      "source": [
        "import requests\n",
        "from time import time\n",
        "# url = 'http://35.232.59.3:8080'\n",
        "# place the domain you got from ngrok or GCP IP below.\n",
        "url = \"https://a10c-34-121-25-35.ngrok-free.app\"\n",
        "qs_res = []\n",
        "for q, true_wids in queries.items():\n",
        "  duration, ap = None, None\n",
        "  t_start = time()\n",
        "  try:\n",
        "    res = requests.get(url + '/search', {'query': q}, timeout=32)\n",
        "    duration = time() - t_start\n",
        "    if res.status_code == 200:\n",
        "      pred_wids, _ = zip(*res.json())\n",
        "      pres = precision_at_k(true_wids,pred_wids,10)\n",
        "      rq = results_quality(true_wids, pred_wids)\n",
        "  # except:\n",
        "  #   pass\n",
        "  except Exception as e:\n",
        "      print(f\"Exception {e}\")\n",
        "  qs_res.append((q, duration, rq,pres))"
      ],
      "metadata": {
        "id": "dYmNTq9u0ChK"
      },
      "execution_count": 22,
      "outputs": []
    },
    {
      "cell_type": "code",
      "source": [
        "print(qs_res)\n",
        "print(max(x[1] for x in qs_res ))\n",
        "print(len(true_wids))\n",
        "print(pred_wids)\n",
        "print(\"Avarge duration: \",sum(item[1] for item in qs_res) / len(qs_res))\n",
        "print(\"avarge rq: \",sum(item[2] for item in qs_res) / len(qs_res))\n",
        "print(\"Avarge pres: \",sum(item[3] for item in qs_res) / len(qs_res))\n",
        "\n",
        "#with 100\n",
        "# Avarge duration = 2.5055845657984417\n",
        "# avarge rq = 0.238\n",
        "# Avarge pres = 0.3166666666666666\n",
        "\n",
        "# with 50\n",
        "#Avarge duration:  2.4704708814620973\n",
        "#avarge rq:  0.25540000000000007\n",
        "#Avarge pres:  0.3466666666666666\n",
        "\n",
        "\n",
        "# with 50 and page rank\n",
        "#Avarge duration:  4.4704708814620973\n",
        "#avarge rq:  0.377\n",
        "#Avarge pres:  0.526\n",
        "\n",
        "#Avarge duration:  4.733467785517375\n",
        "#avarge rq:  0.4224333333333334\n",
        "#Avarge pres:  0.5533333333333333"
      ],
      "metadata": {
        "colab": {
          "base_uri": "https://localhost:8080/"
        },
        "id": "17FSH-c953Us",
        "outputId": "81630078-5dcf-4398-aed0-2f19ced111ac"
      },
      "execution_count": 23,
      "outputs": [
        {
          "output_type": "stream",
          "name": "stdout",
          "text": [
            "[('genetics', 0.9800312519073486, 0.566, 0.7), ('Who is considered the \"Father of the United States\"?', 19.425235271453857, 0.0, 0.0), ('economic', 1.554483413696289, 0.576, 0.6), ('When was the United Nations founded?', 12.261887073516846, 0.25, 0.4), ('video gaming', 3.6042215824127197, 0.0, 0.0), ('3D printing technology', 2.1365156173706055, 0.14, 0.1), ('Who is the author of \"1984\"?', 3.61967396736145, 0.0, 0.0), ('bioinformatics', 0.7555480003356934, 0.54, 0.7), ('Who is known for proposing the heliocentric model of the solar system?', 18.461988925933838, 0.48, 0.5), ('Describe the process of water erosion.', 4.926901578903198, 0.582, 1.0), ('When was the Berlin Wall constructed?', 3.3747615814208984, 0.495, 0.7), ('What is the meaning of the term \"Habeas Corpus\"?', 8.349095821380615, 0.534, 0.7), ('telecommunications', 0.8407375812530518, 0.308, 0.4), ('internet', 1.5762293338775635, 0.595, 0.7), ('What are the characteristics of a chemical element?', 2.5545742511749268, 0.571, 0.8), ('Describe the structure of a plant cell.', 4.1288886070251465, 0.29, 0.5), ('Who painted \"Starry Night\"?', 3.2084712982177734, 0.387, 0.5), ('computer', 1.47147536277771, 0.595, 0.7), (\"What is the structure of the Earth's layers?\", 3.645111560821533, 0.562, 0.8), ('When did World War II end?', 15.25922679901123, 0.171, 0.3), ('When was the Gutenberg printing press invented?', 5.079627752304077, 0.69, 0.8), ('medicine', 1.3583757877349854, 0.485, 1.0), ('Describe the water cycle.', 4.531493425369263, 0.248, 0.3), ('artificial intelligence', 1.4653477668762207, 0.65, 0.7), ('physics', 0.877875804901123, 0.529, 0.7), ('nanotechnology', 0.9008512496948242, 0.727, 0.9), ('When did the Black Death pandemic occur?', 8.053441047668457, 0.448, 0.5), ('neuroscience', 0.8555970191955566, 0.63, 0.7), ('snowboard', 0.9705326557159424, 0.404, 0.5), ('Who is the founder of modern psychology?', 5.775832176208496, 0.22, 0.4)]\n",
            "19.425235271453857\n",
            "49\n",
            "('22921', '5961', '29234992', '199877', '26781', '9703', '364299', '6774132', '42031', '3110687', '540570', '47742424', '536656', '27092290', '7801', '623477', '6534029', '1976138', '1087837', '709031', '25827477', '60964369', '659612', '31746977', '788743', '55928311', '31835782', '243412', '47273732', '66670888', '81590', '4299304', '68297903', '427960', '14670171', '12542553', '24472860', '3836974', '59528986', '7691988', '50594571', '6144489', '15447', '34128', '5007783', '38184800', '60732219', '13512823', '42042', '3080099')\n",
            "Avarge duration:  4.733467785517375\n",
            "avarge rq:  0.4224333333333334\n",
            "Avarge pres:  0.5533333333333333\n"
          ]
        }
      ]
    }
  ]
}